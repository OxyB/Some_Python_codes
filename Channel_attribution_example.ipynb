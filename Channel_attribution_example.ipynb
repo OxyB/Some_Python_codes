{
 "cells": [
  {
   "cell_type": "code",
   "execution_count": 145,
   "metadata": {},
   "outputs": [],
   "source": [
    "import pandas as pd\n",
    "import numpy as np\n",
    "import seaborn as sns #visualisation\n",
    "import matplotlib.pyplot as plt #visualisation\n",
    "import pandas as pd\n",
    "import pandas_profiling\n",
    "from collections import defaultdict\n",
    "%matplotlib inline \n",
    "sns.set(color_codes=True)"
   ]
  },
  {
   "cell_type": "code",
   "execution_count": 146,
   "metadata": {},
   "outputs": [],
   "source": [
    "import os\n",
    "# change the current directory \n",
    "# to specified directory \n",
    "#pwd"
   ]
  },
  {
   "cell_type": "code",
   "execution_count": 147,
   "metadata": {},
   "outputs": [],
   "source": [
    "from IPython.core.interactiveshell import InteractiveShell\n",
    "InteractiveShell.ast_node_interactivity = \"all\""
   ]
  },
  {
   "cell_type": "code",
   "execution_count": 148,
   "metadata": {},
   "outputs": [
    {
     "data": {
      "text/html": [
       "<div>\n",
       "<style scoped>\n",
       "    .dataframe tbody tr th:only-of-type {\n",
       "        vertical-align: middle;\n",
       "    }\n",
       "\n",
       "    .dataframe tbody tr th {\n",
       "        vertical-align: top;\n",
       "    }\n",
       "\n",
       "    .dataframe thead th {\n",
       "        text-align: right;\n",
       "    }\n",
       "</style>\n",
       "<table border=\"1\" class=\"dataframe\">\n",
       "  <thead>\n",
       "    <tr style=\"text-align: right;\">\n",
       "      <th></th>\n",
       "      <th>domain_userid</th>\n",
       "      <th>domain_sessionid</th>\n",
       "      <th>tstamp</th>\n",
       "      <th>duration</th>\n",
       "      <th>marketing_channel</th>\n",
       "      <th>location_name</th>\n",
       "      <th>clickouts</th>\n",
       "      <th>bookings</th>\n",
       "      <th>revenue</th>\n",
       "    </tr>\n",
       "  </thead>\n",
       "  <tbody>\n",
       "    <tr>\n",
       "      <td>0</td>\n",
       "      <td>0585a82a-100f-4c18-bab9-bf1b7d798f73</td>\n",
       "      <td>0076924a-62cd-432e-b179-99b0fc3bc42a</td>\n",
       "      <td>2019-01-01T23:00:00Z</td>\n",
       "      <td>141</td>\n",
       "      <td>SEM</td>\n",
       "      <td>Hockenheim</td>\n",
       "      <td>2</td>\n",
       "      <td>0</td>\n",
       "      <td>0.617814</td>\n",
       "    </tr>\n",
       "    <tr>\n",
       "      <td>1</td>\n",
       "      <td>5f6c2ac7-c42e-4abf-98ce-6c37a0529422</td>\n",
       "      <td>000a85fc-3763-4747-9e8f-7c0ebe2e0c96</td>\n",
       "      <td>2018-12-31T23:00:00Z</td>\n",
       "      <td>309</td>\n",
       "      <td>Other</td>\n",
       "      <td>Sedona</td>\n",
       "      <td>0</td>\n",
       "      <td>0</td>\n",
       "      <td>0.000000</td>\n",
       "    </tr>\n",
       "    <tr>\n",
       "      <td>2</td>\n",
       "      <td>81aa334c-d60c-409f-a108-6b929b0076dc</td>\n",
       "      <td>be7b7161-39a7-4359-b5d9-1785f5049cf0</td>\n",
       "      <td>2019-01-06T23:00:00Z</td>\n",
       "      <td>856</td>\n",
       "      <td>Remarketing</td>\n",
       "      <td>Świnoujście</td>\n",
       "      <td>1</td>\n",
       "      <td>0</td>\n",
       "      <td>0.390730</td>\n",
       "    </tr>\n",
       "    <tr>\n",
       "      <td>3</td>\n",
       "      <td>26bb30b7-0717-49a3-a56d-058bb9a4387a</td>\n",
       "      <td>0135ac1a-bb1d-4f4f-9f20-8be0872b97dc</td>\n",
       "      <td>2019-01-03T23:00:00Z</td>\n",
       "      <td>5</td>\n",
       "      <td>Other</td>\n",
       "      <td>NaN</td>\n",
       "      <td>0</td>\n",
       "      <td>0</td>\n",
       "      <td>0.000000</td>\n",
       "    </tr>\n",
       "    <tr>\n",
       "      <td>4</td>\n",
       "      <td>17b2cdb0-8593-4016-b1f8-c4176027dc72</td>\n",
       "      <td>00375696-f7a6-4a77-8cf7-6a201949bb5f</td>\n",
       "      <td>2019-01-03T23:00:00Z</td>\n",
       "      <td>135</td>\n",
       "      <td>Display</td>\n",
       "      <td>Abkhazia</td>\n",
       "      <td>0</td>\n",
       "      <td>0</td>\n",
       "      <td>0.000000</td>\n",
       "    </tr>\n",
       "  </tbody>\n",
       "</table>\n",
       "</div>"
      ],
      "text/plain": [
       "                          domain_userid                      domain_sessionid  \\\n",
       "0  0585a82a-100f-4c18-bab9-bf1b7d798f73  0076924a-62cd-432e-b179-99b0fc3bc42a   \n",
       "1  5f6c2ac7-c42e-4abf-98ce-6c37a0529422  000a85fc-3763-4747-9e8f-7c0ebe2e0c96   \n",
       "2  81aa334c-d60c-409f-a108-6b929b0076dc  be7b7161-39a7-4359-b5d9-1785f5049cf0   \n",
       "3  26bb30b7-0717-49a3-a56d-058bb9a4387a  0135ac1a-bb1d-4f4f-9f20-8be0872b97dc   \n",
       "4  17b2cdb0-8593-4016-b1f8-c4176027dc72  00375696-f7a6-4a77-8cf7-6a201949bb5f   \n",
       "\n",
       "                 tstamp  duration marketing_channel location_name  clickouts  \\\n",
       "0  2019-01-01T23:00:00Z       141               SEM    Hockenheim          2   \n",
       "1  2018-12-31T23:00:00Z       309             Other        Sedona          0   \n",
       "2  2019-01-06T23:00:00Z       856       Remarketing   Świnoujście          1   \n",
       "3  2019-01-03T23:00:00Z         5             Other           NaN          0   \n",
       "4  2019-01-03T23:00:00Z       135           Display      Abkhazia          0   \n",
       "\n",
       "   bookings   revenue  \n",
       "0         0  0.617814  \n",
       "1         0  0.000000  \n",
       "2         0  0.390730  \n",
       "3         0  0.000000  \n",
       "4         0  0.000000  "
      ]
     },
     "execution_count": 148,
     "metadata": {},
     "output_type": "execute_result"
    },
    {
     "data": {
      "text/html": [
       "<div>\n",
       "<style scoped>\n",
       "    .dataframe tbody tr th:only-of-type {\n",
       "        vertical-align: middle;\n",
       "    }\n",
       "\n",
       "    .dataframe tbody tr th {\n",
       "        vertical-align: top;\n",
       "    }\n",
       "\n",
       "    .dataframe thead th {\n",
       "        text-align: right;\n",
       "    }\n",
       "</style>\n",
       "<table border=\"1\" class=\"dataframe\">\n",
       "  <thead>\n",
       "    <tr style=\"text-align: right;\">\n",
       "      <th></th>\n",
       "      <th>domain_userid</th>\n",
       "      <th>domain_sessionid</th>\n",
       "      <th>tstamp</th>\n",
       "      <th>duration</th>\n",
       "      <th>marketing_channel</th>\n",
       "      <th>location_name</th>\n",
       "      <th>clickouts</th>\n",
       "      <th>bookings</th>\n",
       "      <th>revenue</th>\n",
       "    </tr>\n",
       "  </thead>\n",
       "  <tbody>\n",
       "    <tr>\n",
       "      <td>810547</td>\n",
       "      <td>e578fc6a-b7a4-4090-aa58-9625db4128dc</td>\n",
       "      <td>63836aef-d5d9-4aea-bb30-b758923fe110</td>\n",
       "      <td>2019-06-09T22:00:00Z</td>\n",
       "      <td>81</td>\n",
       "      <td>Brand</td>\n",
       "      <td>NaN</td>\n",
       "      <td>0</td>\n",
       "      <td>0</td>\n",
       "      <td>0.000000</td>\n",
       "    </tr>\n",
       "    <tr>\n",
       "      <td>810548</td>\n",
       "      <td>8a6973bb-c42e-41e4-9eda-60c38b0259e6</td>\n",
       "      <td>01606ed7-735a-4877-ac1e-29f34907a201</td>\n",
       "      <td>2019-07-09T22:00:00Z</td>\n",
       "      <td>20</td>\n",
       "      <td>SEO</td>\n",
       "      <td>NaN</td>\n",
       "      <td>0</td>\n",
       "      <td>0</td>\n",
       "      <td>0.000000</td>\n",
       "    </tr>\n",
       "    <tr>\n",
       "      <td>810549</td>\n",
       "      <td>c34693a0-55d2-4f99-ba86-d6bfdea6661b</td>\n",
       "      <td>51ef774d-2a43-4ae0-a5c3-779e0582a74b</td>\n",
       "      <td>2019-07-04T22:00:00Z</td>\n",
       "      <td>554</td>\n",
       "      <td>Remarketing</td>\n",
       "      <td>Sylt</td>\n",
       "      <td>5</td>\n",
       "      <td>0</td>\n",
       "      <td>1.299584</td>\n",
       "    </tr>\n",
       "    <tr>\n",
       "      <td>810550</td>\n",
       "      <td>44603039-50c5-49a8-b7e6-2640c5d518b3</td>\n",
       "      <td>0103dc16-3d30-4d55-87b8-538f066be179</td>\n",
       "      <td>2019-07-09T22:00:00Z</td>\n",
       "      <td>2</td>\n",
       "      <td>SEM</td>\n",
       "      <td>France</td>\n",
       "      <td>0</td>\n",
       "      <td>0</td>\n",
       "      <td>0.000000</td>\n",
       "    </tr>\n",
       "    <tr>\n",
       "      <td>810551</td>\n",
       "      <td>ba06c462-acd0-4565-b4f8-8d67d6656907</td>\n",
       "      <td>0107d7d9-cd47-4e7b-ba34-d093b5cd08ca</td>\n",
       "      <td>2019-07-05T22:00:00Z</td>\n",
       "      <td>5</td>\n",
       "      <td>SEM</td>\n",
       "      <td>Bryansk</td>\n",
       "      <td>0</td>\n",
       "      <td>0</td>\n",
       "      <td>0.000000</td>\n",
       "    </tr>\n",
       "  </tbody>\n",
       "</table>\n",
       "</div>"
      ],
      "text/plain": [
       "                               domain_userid  \\\n",
       "810547  e578fc6a-b7a4-4090-aa58-9625db4128dc   \n",
       "810548  8a6973bb-c42e-41e4-9eda-60c38b0259e6   \n",
       "810549  c34693a0-55d2-4f99-ba86-d6bfdea6661b   \n",
       "810550  44603039-50c5-49a8-b7e6-2640c5d518b3   \n",
       "810551  ba06c462-acd0-4565-b4f8-8d67d6656907   \n",
       "\n",
       "                            domain_sessionid                tstamp  duration  \\\n",
       "810547  63836aef-d5d9-4aea-bb30-b758923fe110  2019-06-09T22:00:00Z        81   \n",
       "810548  01606ed7-735a-4877-ac1e-29f34907a201  2019-07-09T22:00:00Z        20   \n",
       "810549  51ef774d-2a43-4ae0-a5c3-779e0582a74b  2019-07-04T22:00:00Z       554   \n",
       "810550  0103dc16-3d30-4d55-87b8-538f066be179  2019-07-09T22:00:00Z         2   \n",
       "810551  0107d7d9-cd47-4e7b-ba34-d093b5cd08ca  2019-07-05T22:00:00Z         5   \n",
       "\n",
       "       marketing_channel location_name  clickouts  bookings   revenue  \n",
       "810547             Brand           NaN          0         0  0.000000  \n",
       "810548               SEO           NaN          0         0  0.000000  \n",
       "810549       Remarketing          Sylt          5         0  1.299584  \n",
       "810550               SEM        France          0         0  0.000000  \n",
       "810551               SEM       Bryansk          0         0  0.000000  "
      ]
     },
     "execution_count": 148,
     "metadata": {},
     "output_type": "execute_result"
    }
   ],
   "source": [
    "df = pd.read_csv('dataset.csv')\n",
    "# To display the top 5 rows\n",
    "df.head(5)\n",
    "df.tail(5)"
   ]
  },
  {
   "cell_type": "code",
   "execution_count": 149,
   "metadata": {},
   "outputs": [
    {
     "name": "stdout",
     "output_type": "stream",
     "text": [
      "<class 'pandas.core.frame.DataFrame'>\n",
      "RangeIndex: 810552 entries, 0 to 810551\n",
      "Data columns (total 9 columns):\n",
      "domain_userid        810552 non-null object\n",
      "domain_sessionid     810552 non-null object\n",
      "tstamp               810552 non-null object\n",
      "duration             810552 non-null int64\n",
      "marketing_channel    810552 non-null object\n",
      "location_name        661602 non-null object\n",
      "clickouts            810552 non-null int64\n",
      "bookings             810552 non-null int64\n",
      "revenue              810552 non-null float64\n",
      "dtypes: float64(1), int64(3), object(5)\n",
      "memory usage: 55.7+ MB\n"
     ]
    },
    {
     "data": {
      "text/html": [
       "<div>\n",
       "<style scoped>\n",
       "    .dataframe tbody tr th:only-of-type {\n",
       "        vertical-align: middle;\n",
       "    }\n",
       "\n",
       "    .dataframe tbody tr th {\n",
       "        vertical-align: top;\n",
       "    }\n",
       "\n",
       "    .dataframe thead th {\n",
       "        text-align: right;\n",
       "    }\n",
       "</style>\n",
       "<table border=\"1\" class=\"dataframe\">\n",
       "  <thead>\n",
       "    <tr style=\"text-align: right;\">\n",
       "      <th></th>\n",
       "      <th>duration</th>\n",
       "      <th>clickouts</th>\n",
       "      <th>bookings</th>\n",
       "      <th>revenue</th>\n",
       "    </tr>\n",
       "  </thead>\n",
       "  <tbody>\n",
       "    <tr>\n",
       "      <td>count</td>\n",
       "      <td>8.105520e+05</td>\n",
       "      <td>810552.000000</td>\n",
       "      <td>810552.000000</td>\n",
       "      <td>810552.000000</td>\n",
       "    </tr>\n",
       "    <tr>\n",
       "      <td>mean</td>\n",
       "      <td>4.689545e+02</td>\n",
       "      <td>1.019801</td>\n",
       "      <td>0.004361</td>\n",
       "      <td>0.427652</td>\n",
       "    </tr>\n",
       "    <tr>\n",
       "      <td>std</td>\n",
       "      <td>4.900880e+03</td>\n",
       "      <td>2.574266</td>\n",
       "      <td>0.074424</td>\n",
       "      <td>2.095898</td>\n",
       "    </tr>\n",
       "    <tr>\n",
       "      <td>min</td>\n",
       "      <td>0.000000e+00</td>\n",
       "      <td>0.000000</td>\n",
       "      <td>0.000000</td>\n",
       "      <td>-1.870546</td>\n",
       "    </tr>\n",
       "    <tr>\n",
       "      <td>25%</td>\n",
       "      <td>1.400000e+01</td>\n",
       "      <td>0.000000</td>\n",
       "      <td>0.000000</td>\n",
       "      <td>0.000000</td>\n",
       "    </tr>\n",
       "    <tr>\n",
       "      <td>50%</td>\n",
       "      <td>1.040000e+02</td>\n",
       "      <td>0.000000</td>\n",
       "      <td>0.000000</td>\n",
       "      <td>0.000000</td>\n",
       "    </tr>\n",
       "    <tr>\n",
       "      <td>75%</td>\n",
       "      <td>4.000000e+02</td>\n",
       "      <td>1.000000</td>\n",
       "      <td>0.000000</td>\n",
       "      <td>0.359428</td>\n",
       "    </tr>\n",
       "    <tr>\n",
       "      <td>max</td>\n",
       "      <td>2.939660e+06</td>\n",
       "      <td>217.000000</td>\n",
       "      <td>9.000000</td>\n",
       "      <td>177.472508</td>\n",
       "    </tr>\n",
       "  </tbody>\n",
       "</table>\n",
       "</div>"
      ],
      "text/plain": [
       "           duration      clickouts       bookings        revenue\n",
       "count  8.105520e+05  810552.000000  810552.000000  810552.000000\n",
       "mean   4.689545e+02       1.019801       0.004361       0.427652\n",
       "std    4.900880e+03       2.574266       0.074424       2.095898\n",
       "min    0.000000e+00       0.000000       0.000000      -1.870546\n",
       "25%    1.400000e+01       0.000000       0.000000       0.000000\n",
       "50%    1.040000e+02       0.000000       0.000000       0.000000\n",
       "75%    4.000000e+02       1.000000       0.000000       0.359428\n",
       "max    2.939660e+06     217.000000       9.000000     177.472508"
      ]
     },
     "execution_count": 149,
     "metadata": {},
     "output_type": "execute_result"
    },
    {
     "data": {
      "text/plain": [
       "duration     104.0\n",
       "clickouts      0.0\n",
       "bookings       0.0\n",
       "revenue        0.0\n",
       "dtype: float64"
      ]
     },
     "execution_count": 149,
     "metadata": {},
     "output_type": "execute_result"
    }
   ],
   "source": [
    "df.info()\n",
    "df.describe()\n",
    "df.median()"
   ]
  },
  {
   "cell_type": "code",
   "execution_count": 150,
   "metadata": {},
   "outputs": [
    {
     "data": {
      "text/plain": [
       "domain_userid         object\n",
       "domain_sessionid      object\n",
       "tstamp                object\n",
       "duration               int64\n",
       "marketing_channel     object\n",
       "location_name         object\n",
       "clickouts              int64\n",
       "bookings               int64\n",
       "revenue              float64\n",
       "dtype: object"
      ]
     },
     "execution_count": 150,
     "metadata": {},
     "output_type": "execute_result"
    }
   ],
   "source": [
    "df.dtypes"
   ]
  },
  {
   "cell_type": "code",
   "execution_count": 151,
   "metadata": {},
   "outputs": [],
   "source": [
    "#df.profile_report()"
   ]
  },
  {
   "cell_type": "code",
   "execution_count": 152,
   "metadata": {},
   "outputs": [
    {
     "data": {
      "text/plain": [
       "(810552, 9)"
      ]
     },
     "execution_count": 152,
     "metadata": {},
     "output_type": "execute_result"
    },
    {
     "name": "stdout",
     "output_type": "stream",
     "text": [
      "number of duplicate rows:  (0, 9)\n"
     ]
    }
   ],
   "source": [
    "# Total number of rows and columns\n",
    "df.shape\n",
    "# Rows containing duplicate data\n",
    "duplicate_rows_df = df[df.duplicated()]\n",
    "print('number of duplicate rows: ', duplicate_rows_df.shape)"
   ]
  },
  {
   "cell_type": "code",
   "execution_count": 153,
   "metadata": {},
   "outputs": [
    {
     "data": {
      "text/plain": [
       "domain_userid        810552\n",
       "domain_sessionid     810552\n",
       "tstamp               810552\n",
       "duration             810552\n",
       "marketing_channel    810552\n",
       "location_name        661602\n",
       "clickouts            810552\n",
       "bookings             810552\n",
       "revenue              810552\n",
       "dtype: int64"
      ]
     },
     "execution_count": 153,
     "metadata": {},
     "output_type": "execute_result"
    }
   ],
   "source": [
    "df.count() "
   ]
  },
  {
   "cell_type": "code",
   "execution_count": 154,
   "metadata": {},
   "outputs": [
    {
     "name": "stdout",
     "output_type": "stream",
     "text": [
      "domain_userid             0\n",
      "domain_sessionid          0\n",
      "tstamp                    0\n",
      "duration                  0\n",
      "marketing_channel         0\n",
      "location_name        148950\n",
      "clickouts                 0\n",
      "bookings                  0\n",
      "revenue                   0\n",
      "dtype: int64\n"
     ]
    }
   ],
   "source": [
    "# Finding the null values.\n",
    "print(df.isnull().sum())"
   ]
  },
  {
   "cell_type": "code",
   "execution_count": 155,
   "metadata": {},
   "outputs": [
    {
     "data": {
      "text/plain": [
       "array(['Hockenheim', 'Sedona', 'Świnoujście', ..., 'Milton of Campsie',\n",
       "       'Laurinburg', 'Rhynern'], dtype=object)"
      ]
     },
     "execution_count": 155,
     "metadata": {},
     "output_type": "execute_result"
    }
   ],
   "source": [
    "# location name of the first search is nt possible to classify. So I will probably drip this column\n",
    "df['location_name'].unique()"
   ]
  },
  {
   "cell_type": "code",
   "execution_count": 156,
   "metadata": {},
   "outputs": [
    {
     "data": {
      "text/plain": [
       "<matplotlib.axes._subplots.AxesSubplot at 0x274e1c27b08>"
      ]
     },
     "execution_count": 156,
     "metadata": {},
     "output_type": "execute_result"
    },
    {
     "data": {
      "text/plain": [
       "<matplotlib.axes._subplots.AxesSubplot at 0x274e1c27b08>"
      ]
     },
     "execution_count": 156,
     "metadata": {},
     "output_type": "execute_result"
    },
    {
     "data": {
      "text/plain": [
       "<matplotlib.axes._subplots.AxesSubplot at 0x274e1c27b08>"
      ]
     },
     "execution_count": 156,
     "metadata": {},
     "output_type": "execute_result"
    },
    {
     "data": {
      "text/plain": [
       "<matplotlib.axes._subplots.AxesSubplot at 0x274e1c27b08>"
      ]
     },
     "execution_count": 156,
     "metadata": {},
     "output_type": "execute_result"
    },
    {
     "data": {
      "image/png": "[encoded data removed]",
      "text/plain": [
       "<Figure size 432x288 with 1 Axes>"
      ]
     },
     "metadata": {},
     "output_type": "display_data"
    }
   ],
   "source": [
    "sns.boxplot(x=df['duration'])\n",
    "sns.boxplot(x=df['clickouts'])\n",
    "sns.boxplot(x=df['bookings'])\n",
    "sns.boxplot(x=df['revenue'])"
   ]
  },
  {
   "cell_type": "code",
   "execution_count": 157,
   "metadata": {},
   "outputs": [
    {
     "data": {
      "text/plain": [
       "<matplotlib.axes._subplots.AxesSubplot at 0x274a62a7748>"
      ]
     },
     "execution_count": 157,
     "metadata": {},
     "output_type": "execute_result"
    },
    {
     "data": {
      "image/png": "[encoded data removed]",
      "text/plain": [
       "<Figure size 432x288 with 1 Axes>"
      ]
     },
     "metadata": {},
     "output_type": "display_data"
    }
   ],
   "source": [
    "sns.boxplot(x=df['clickouts'])"
   ]
  },
  {
   "cell_type": "code",
   "execution_count": 158,
   "metadata": {},
   "outputs": [
    {
     "data": {
      "text/plain": [
       "<matplotlib.axes._subplots.AxesSubplot at 0x274a5f7b348>"
      ]
     },
     "execution_count": 158,
     "metadata": {},
     "output_type": "execute_result"
    },
    {
     "data": {
      "image/png": "[encoded data removed]",
      "text/plain": [
       "<Figure size 432x288 with 1 Axes>"
      ]
     },
     "metadata": {},
     "output_type": "display_data"
    }
   ],
   "source": [
    "sns.boxplot(x=df['bookings'])"
   ]
  },
  {
   "cell_type": "code",
   "execution_count": 159,
   "metadata": {},
   "outputs": [
    {
     "data": {
      "text/plain": [
       "<matplotlib.axes._subplots.AxesSubplot at 0x274a5fd5fc8>"
      ]
     },
     "execution_count": 159,
     "metadata": {},
     "output_type": "execute_result"
    },
    {
     "data": {
      "image/png": "[encoded data removed]",
      "text/plain": [
       "<Figure size 432x288 with 1 Axes>"
      ]
     },
     "metadata": {},
     "output_type": "display_data"
    }
   ],
   "source": [
    "sns.boxplot(x=df['revenue'])"
   ]
  },
  {
   "cell_type": "code",
   "execution_count": 160,
   "metadata": {},
   "outputs": [
    {
     "data": {
      "text/plain": [
       "<matplotlib.axes._subplots.AxesSubplot at 0x274a6006a88>"
      ]
     },
     "execution_count": 160,
     "metadata": {},
     "output_type": "execute_result"
    },
    {
     "data": {
      "image/png": "[encoded data removed]",
      "text/plain": [
       "<Figure size 432x288 with 1 Axes>"
      ]
     },
     "metadata": {},
     "output_type": "display_data"
    }
   ],
   "source": [
    "sns.distplot(df['duration'].dropna(), kde = False)"
   ]
  },
  {
   "cell_type": "code",
   "execution_count": 161,
   "metadata": {},
   "outputs": [
    {
     "data": {
      "text/plain": [
       "<matplotlib.axes._subplots.AxesSubplot at 0x274a6555fc8>"
      ]
     },
     "execution_count": 161,
     "metadata": {},
     "output_type": "execute_result"
    },
    {
     "data": {
      "image/png": "[encoded data removed]",
      "text/plain": [
       "<Figure size 432x288 with 1 Axes>"
      ]
     },
     "metadata": {},
     "output_type": "display_data"
    }
   ],
   "source": [
    "sns.distplot(df['duration'].dropna(), bins = 1000, kde = False)"
   ]
  },
  {
   "cell_type": "code",
   "execution_count": 162,
   "metadata": {},
   "outputs": [
    {
     "data": {
      "text/plain": [
       "<matplotlib.axes._subplots.AxesSubplot at 0x274b023ab08>"
      ]
     },
     "execution_count": 162,
     "metadata": {},
     "output_type": "execute_result"
    },
    {
     "data": {
      "image/png": "[encoded data removed]",
      "text/plain": [
       "<Figure size 432x288 with 1 Axes>"
      ]
     },
     "metadata": {},
     "output_type": "display_data"
    }
   ],
   "source": [
    "sns.distplot(df['clickouts'].dropna(), kde = False)"
   ]
  },
  {
   "cell_type": "code",
   "execution_count": 163,
   "metadata": {},
   "outputs": [
    {
     "data": {
      "text/plain": [
       "<matplotlib.axes._subplots.AxesSubplot at 0x274afbab948>"
      ]
     },
     "execution_count": 163,
     "metadata": {},
     "output_type": "execute_result"
    },
    {
     "data": {
      "image/png": "[encoded data removed]",
      "text/plain": [
       "<Figure size 432x288 with 1 Axes>"
      ]
     },
     "metadata": {},
     "output_type": "display_data"
    }
   ],
   "source": [
    "sns.distplot(df['bookings'].dropna(), kde = False)"
   ]
  },
  {
   "cell_type": "code",
   "execution_count": 164,
   "metadata": {},
   "outputs": [
    {
     "data": {
      "text/plain": [
       "<matplotlib.axes._subplots.AxesSubplot at 0x274afcb31c8>"
      ]
     },
     "execution_count": 164,
     "metadata": {},
     "output_type": "execute_result"
    },
    {
     "data": {
      "image/png": "[encoded data removed]",
      "text/plain": [
       "<Figure size 432x288 with 1 Axes>"
      ]
     },
     "metadata": {},
     "output_type": "display_data"
    }
   ],
   "source": [
    "sns.distplot(df['revenue'].dropna(), kde = False)"
   ]
  },
  {
   "cell_type": "markdown",
   "metadata": {},
   "source": [
    "### Channel Attribution Markov chains"
   ]
  },
  {
   "cell_type": "code",
   "execution_count": 165,
   "metadata": {},
   "outputs": [],
   "source": [
    "df['purchase'] = df['revenue'].apply(lambda x: 1 if x > 0 else 0)"
   ]
  },
  {
   "cell_type": "code",
   "execution_count": 166,
   "metadata": {},
   "outputs": [
    {
     "data": {
      "text/html": [
       "<div>\n",
       "<style scoped>\n",
       "    .dataframe tbody tr th:only-of-type {\n",
       "        vertical-align: middle;\n",
       "    }\n",
       "\n",
       "    .dataframe tbody tr th {\n",
       "        vertical-align: top;\n",
       "    }\n",
       "\n",
       "    .dataframe thead th {\n",
       "        text-align: right;\n",
       "    }\n",
       "</style>\n",
       "<table border=\"1\" class=\"dataframe\">\n",
       "  <thead>\n",
       "    <tr style=\"text-align: right;\">\n",
       "      <th></th>\n",
       "      <th>domain_userid</th>\n",
       "      <th>domain_sessionid</th>\n",
       "      <th>tstamp</th>\n",
       "      <th>duration</th>\n",
       "      <th>marketing_channel</th>\n",
       "      <th>location_name</th>\n",
       "      <th>clickouts</th>\n",
       "      <th>bookings</th>\n",
       "      <th>revenue</th>\n",
       "      <th>purchase</th>\n",
       "    </tr>\n",
       "  </thead>\n",
       "  <tbody>\n",
       "    <tr>\n",
       "      <td>0</td>\n",
       "      <td>0585a82a-100f-4c18-bab9-bf1b7d798f73</td>\n",
       "      <td>0076924a-62cd-432e-b179-99b0fc3bc42a</td>\n",
       "      <td>2019-01-01T23:00:00Z</td>\n",
       "      <td>141</td>\n",
       "      <td>SEM</td>\n",
       "      <td>Hockenheim</td>\n",
       "      <td>2</td>\n",
       "      <td>0</td>\n",
       "      <td>0.617814</td>\n",
       "      <td>1</td>\n",
       "    </tr>\n",
       "    <tr>\n",
       "      <td>1</td>\n",
       "      <td>5f6c2ac7-c42e-4abf-98ce-6c37a0529422</td>\n",
       "      <td>000a85fc-3763-4747-9e8f-7c0ebe2e0c96</td>\n",
       "      <td>2018-12-31T23:00:00Z</td>\n",
       "      <td>309</td>\n",
       "      <td>Other</td>\n",
       "      <td>Sedona</td>\n",
       "      <td>0</td>\n",
       "      <td>0</td>\n",
       "      <td>0.000000</td>\n",
       "      <td>0</td>\n",
       "    </tr>\n",
       "    <tr>\n",
       "      <td>2</td>\n",
       "      <td>81aa334c-d60c-409f-a108-6b929b0076dc</td>\n",
       "      <td>be7b7161-39a7-4359-b5d9-1785f5049cf0</td>\n",
       "      <td>2019-01-06T23:00:00Z</td>\n",
       "      <td>856</td>\n",
       "      <td>Remarketing</td>\n",
       "      <td>Świnoujście</td>\n",
       "      <td>1</td>\n",
       "      <td>0</td>\n",
       "      <td>0.390730</td>\n",
       "      <td>1</td>\n",
       "    </tr>\n",
       "    <tr>\n",
       "      <td>3</td>\n",
       "      <td>26bb30b7-0717-49a3-a56d-058bb9a4387a</td>\n",
       "      <td>0135ac1a-bb1d-4f4f-9f20-8be0872b97dc</td>\n",
       "      <td>2019-01-03T23:00:00Z</td>\n",
       "      <td>5</td>\n",
       "      <td>Other</td>\n",
       "      <td>NaN</td>\n",
       "      <td>0</td>\n",
       "      <td>0</td>\n",
       "      <td>0.000000</td>\n",
       "      <td>0</td>\n",
       "    </tr>\n",
       "    <tr>\n",
       "      <td>4</td>\n",
       "      <td>17b2cdb0-8593-4016-b1f8-c4176027dc72</td>\n",
       "      <td>00375696-f7a6-4a77-8cf7-6a201949bb5f</td>\n",
       "      <td>2019-01-03T23:00:00Z</td>\n",
       "      <td>135</td>\n",
       "      <td>Display</td>\n",
       "      <td>Abkhazia</td>\n",
       "      <td>0</td>\n",
       "      <td>0</td>\n",
       "      <td>0.000000</td>\n",
       "      <td>0</td>\n",
       "    </tr>\n",
       "  </tbody>\n",
       "</table>\n",
       "</div>"
      ],
      "text/plain": [
       "                          domain_userid                      domain_sessionid  \\\n",
       "0  0585a82a-100f-4c18-bab9-bf1b7d798f73  0076924a-62cd-432e-b179-99b0fc3bc42a   \n",
       "1  5f6c2ac7-c42e-4abf-98ce-6c37a0529422  000a85fc-3763-4747-9e8f-7c0ebe2e0c96   \n",
       "2  81aa334c-d60c-409f-a108-6b929b0076dc  be7b7161-39a7-4359-b5d9-1785f5049cf0   \n",
       "3  26bb30b7-0717-49a3-a56d-058bb9a4387a  0135ac1a-bb1d-4f4f-9f20-8be0872b97dc   \n",
       "4  17b2cdb0-8593-4016-b1f8-c4176027dc72  00375696-f7a6-4a77-8cf7-6a201949bb5f   \n",
       "\n",
       "                 tstamp  duration marketing_channel location_name  clickouts  \\\n",
       "0  2019-01-01T23:00:00Z       141               SEM    Hockenheim          2   \n",
       "1  2018-12-31T23:00:00Z       309             Other        Sedona          0   \n",
       "2  2019-01-06T23:00:00Z       856       Remarketing   Świnoujście          1   \n",
       "3  2019-01-03T23:00:00Z         5             Other           NaN          0   \n",
       "4  2019-01-03T23:00:00Z       135           Display      Abkhazia          0   \n",
       "\n",
       "   bookings   revenue  purchase  \n",
       "0         0  0.617814         1  \n",
       "1         0  0.000000         0  \n",
       "2         0  0.390730         1  \n",
       "3         0  0.000000         0  \n",
       "4         0  0.000000         0  "
      ]
     },
     "execution_count": 166,
     "metadata": {},
     "output_type": "execute_result"
    }
   ],
   "source": [
    "df.head()"
   ]
  },
  {
   "cell_type": "code",
   "execution_count": 167,
   "metadata": {},
   "outputs": [],
   "source": [
    "df['interaction'] = \"session\""
   ]
  },
  {
   "cell_type": "code",
   "execution_count": 168,
   "metadata": {},
   "outputs": [],
   "source": [
    "df['tstamp'] = pd.to_datetime(df['tstamp']) #.str.strip(), format='%Y/%m/%d')"
   ]
  },
  {
   "cell_type": "code",
   "execution_count": 169,
   "metadata": {},
   "outputs": [
    {
     "name": "stdout",
     "output_type": "stream",
     "text": [
      "<class 'pandas.core.frame.DataFrame'>\n",
      "RangeIndex: 810552 entries, 0 to 810551\n",
      "Data columns (total 11 columns):\n",
      "domain_userid        810552 non-null object\n",
      "domain_sessionid     810552 non-null object\n",
      "tstamp               810552 non-null datetime64[ns, UTC]\n",
      "duration             810552 non-null int64\n",
      "marketing_channel    810552 non-null object\n",
      "location_name        661602 non-null object\n",
      "clickouts            810552 non-null int64\n",
      "bookings             810552 non-null int64\n",
      "revenue              810552 non-null float64\n",
      "purchase             810552 non-null int64\n",
      "interaction          810552 non-null object\n",
      "dtypes: datetime64[ns, UTC](1), float64(1), int64(4), object(5)\n",
      "memory usage: 68.0+ MB\n"
     ]
    }
   ],
   "source": [
    "df.info()"
   ]
  },
  {
   "cell_type": "code",
   "execution_count": 170,
   "metadata": {},
   "outputs": [],
   "source": [
    "df = df.sort_values(['domain_userid', 'tstamp'],\n",
    "                    ascending=[False, True])\n",
    "df['visit_order'] = df.groupby('domain_userid').cumcount() + 1"
   ]
  },
  {
   "cell_type": "code",
   "execution_count": 171,
   "metadata": {},
   "outputs": [
    {
     "data": {
      "text/html": [
       "<div>\n",
       "<style scoped>\n",
       "    .dataframe tbody tr th:only-of-type {\n",
       "        vertical-align: middle;\n",
       "    }\n",
       "\n",
       "    .dataframe tbody tr th {\n",
       "        vertical-align: top;\n",
       "    }\n",
       "\n",
       "    .dataframe thead th {\n",
       "        text-align: right;\n",
       "    }\n",
       "</style>\n",
       "<table border=\"1\" class=\"dataframe\">\n",
       "  <thead>\n",
       "    <tr style=\"text-align: right;\">\n",
       "      <th></th>\n",
       "      <th>domain_userid</th>\n",
       "      <th>domain_sessionid</th>\n",
       "      <th>tstamp</th>\n",
       "      <th>duration</th>\n",
       "      <th>marketing_channel</th>\n",
       "      <th>location_name</th>\n",
       "      <th>clickouts</th>\n",
       "      <th>bookings</th>\n",
       "      <th>revenue</th>\n",
       "      <th>purchase</th>\n",
       "      <th>interaction</th>\n",
       "      <th>visit_order</th>\n",
       "    </tr>\n",
       "  </thead>\n",
       "  <tbody>\n",
       "    <tr>\n",
       "      <td>183537</td>\n",
       "      <td>ffffbbde-1c27-4c5f-b914-4a457aab7274</td>\n",
       "      <td>00edd11f-a8dc-46fe-93c6-84dbd6ca7978</td>\n",
       "      <td>2019-03-15 23:00:00+00:00</td>\n",
       "      <td>140</td>\n",
       "      <td>SEM</td>\n",
       "      <td>Fabrègues</td>\n",
       "      <td>1</td>\n",
       "      <td>0</td>\n",
       "      <td>0.402459</td>\n",
       "      <td>1</td>\n",
       "      <td>session</td>\n",
       "      <td>1</td>\n",
       "    </tr>\n",
       "    <tr>\n",
       "      <td>116344</td>\n",
       "      <td>ffffa639-a087-4a6b-ad81-08ab5a59cd26</td>\n",
       "      <td>01821608-fbba-49f8-bfb8-139a5b43fe6d</td>\n",
       "      <td>2019-02-07 23:00:00+00:00</td>\n",
       "      <td>797</td>\n",
       "      <td>SEM</td>\n",
       "      <td>Costa Rica</td>\n",
       "      <td>0</td>\n",
       "      <td>0</td>\n",
       "      <td>0.000000</td>\n",
       "      <td>0</td>\n",
       "      <td>session</td>\n",
       "      <td>1</td>\n",
       "    </tr>\n",
       "    <tr>\n",
       "      <td>460630</td>\n",
       "      <td>ffffa639-a087-4a6b-ad81-08ab5a59cd26</td>\n",
       "      <td>4e9a6a1f-b1fb-4d6a-a676-3e7010e3477d</td>\n",
       "      <td>2019-02-07 23:00:00+00:00</td>\n",
       "      <td>6</td>\n",
       "      <td>Brand</td>\n",
       "      <td>Costa Rica</td>\n",
       "      <td>0</td>\n",
       "      <td>0</td>\n",
       "      <td>0.000000</td>\n",
       "      <td>0</td>\n",
       "      <td>session</td>\n",
       "      <td>2</td>\n",
       "    </tr>\n",
       "    <tr>\n",
       "      <td>782871</td>\n",
       "      <td>ffffa3f1-c242-4115-98d7-40fb4373e086</td>\n",
       "      <td>005c4970-013a-4893-bdad-8808ec7463ed</td>\n",
       "      <td>2019-07-02 22:00:00+00:00</td>\n",
       "      <td>354</td>\n",
       "      <td>SEO</td>\n",
       "      <td>Pescantina</td>\n",
       "      <td>0</td>\n",
       "      <td>0</td>\n",
       "      <td>0.000000</td>\n",
       "      <td>0</td>\n",
       "      <td>session</td>\n",
       "      <td>1</td>\n",
       "    </tr>\n",
       "    <tr>\n",
       "      <td>349454</td>\n",
       "      <td>ffff6403-3bba-48de-a34f-95556e18563c</td>\n",
       "      <td>00965983-53c3-4449-a900-346d384a2ce2</td>\n",
       "      <td>2019-03-04 23:00:00+00:00</td>\n",
       "      <td>475</td>\n",
       "      <td>SEM</td>\n",
       "      <td>Turkey</td>\n",
       "      <td>1</td>\n",
       "      <td>0</td>\n",
       "      <td>0.438251</td>\n",
       "      <td>1</td>\n",
       "      <td>session</td>\n",
       "      <td>1</td>\n",
       "    </tr>\n",
       "  </tbody>\n",
       "</table>\n",
       "</div>"
      ],
      "text/plain": [
       "                               domain_userid  \\\n",
       "183537  ffffbbde-1c27-4c5f-b914-4a457aab7274   \n",
       "116344  ffffa639-a087-4a6b-ad81-08ab5a59cd26   \n",
       "460630  ffffa639-a087-4a6b-ad81-08ab5a59cd26   \n",
       "782871  ffffa3f1-c242-4115-98d7-40fb4373e086   \n",
       "349454  ffff6403-3bba-48de-a34f-95556e18563c   \n",
       "\n",
       "                            domain_sessionid                    tstamp  \\\n",
       "183537  00edd11f-a8dc-46fe-93c6-84dbd6ca7978 2019-03-15 23:00:00+00:00   \n",
       "116344  01821608-fbba-49f8-bfb8-139a5b43fe6d 2019-02-07 23:00:00+00:00   \n",
       "460630  4e9a6a1f-b1fb-4d6a-a676-3e7010e3477d 2019-02-07 23:00:00+00:00   \n",
       "782871  005c4970-013a-4893-bdad-8808ec7463ed 2019-07-02 22:00:00+00:00   \n",
       "349454  00965983-53c3-4449-a900-346d384a2ce2 2019-03-04 23:00:00+00:00   \n",
       "\n",
       "        duration marketing_channel location_name  clickouts  bookings  \\\n",
       "183537       140               SEM     Fabrègues          1         0   \n",
       "116344       797               SEM    Costa Rica          0         0   \n",
       "460630         6             Brand    Costa Rica          0         0   \n",
       "782871       354               SEO    Pescantina          0         0   \n",
       "349454       475               SEM        Turkey          1         0   \n",
       "\n",
       "         revenue  purchase interaction  visit_order  \n",
       "183537  0.402459         1     session            1  \n",
       "116344  0.000000         0     session            1  \n",
       "460630  0.000000         0     session            2  \n",
       "782871  0.000000         0     session            1  \n",
       "349454  0.438251         1     session            1  "
      ]
     },
     "execution_count": 171,
     "metadata": {},
     "output_type": "execute_result"
    }
   ],
   "source": [
    "df.head()"
   ]
  },
  {
   "cell_type": "code",
   "execution_count": 172,
   "metadata": {},
   "outputs": [],
   "source": [
    "df_paths = df.groupby('domain_userid')['marketing_channel'].aggregate(\n",
    "    lambda x: x.unique().tolist()).reset_index()\n",
    "    \n",
    "df_last_interaction = df.drop_duplicates('domain_userid', keep='last')[['domain_userid', 'purchase']]\n",
    "df_paths = pd.merge(df_paths, df_last_interaction, how='left', on='domain_userid')"
   ]
  },
  {
   "cell_type": "markdown",
   "metadata": {},
   "source": [
    "### Creating a path dataframe with user journeys\n",
    "Merging a list and not list column!!!"
   ]
  },
  {
   "cell_type": "code",
   "execution_count": 175,
   "metadata": {},
   "outputs": [],
   "source": [
    "df_paths['EndPath'] = df_paths['purchase'].apply(lambda x: 'Null' if x ==0 else 'Purchase')"
   ]
  },
  {
   "cell_type": "code",
   "execution_count": 176,
   "metadata": {},
   "outputs": [],
   "source": [
    "df_paths['StartPath'] = 'Start'"
   ]
  },
  {
   "cell_type": "code",
   "execution_count": 177,
   "metadata": {},
   "outputs": [],
   "source": [
    "df_paths['path']=[x[1] + [x[3]] for x in df_paths.values.tolist()]"
   ]
  },
  {
   "cell_type": "code",
   "execution_count": 178,
   "metadata": {},
   "outputs": [],
   "source": [
    "df_paths['path']=[[x[4]] + x[5] for x in df_paths.values.tolist()]"
   ]
  },
  {
   "cell_type": "code",
   "execution_count": 180,
   "metadata": {},
   "outputs": [
    {
     "name": "stdout",
     "output_type": "stream",
     "text": [
      "<class 'pandas.core.frame.DataFrame'>\n",
      "Int64Index: 500000 entries, 0 to 499999\n",
      "Data columns (total 6 columns):\n",
      "domain_userid        500000 non-null object\n",
      "marketing_channel    500000 non-null object\n",
      "purchase             500000 non-null int64\n",
      "EndPath              500000 non-null object\n",
      "StartPath            500000 non-null object\n",
      "path                 500000 non-null object\n",
      "dtypes: int64(1), object(5)\n",
      "memory usage: 26.7+ MB\n"
     ]
    }
   ],
   "source": [
    "df_paths.info()"
   ]
  },
  {
   "cell_type": "code",
   "execution_count": 181,
   "metadata": {},
   "outputs": [],
   "source": [
    "df_paths = df_paths[['domain_userid', 'path']]"
   ]
  },
  {
   "cell_type": "code",
   "execution_count": 182,
   "metadata": {},
   "outputs": [
    {
     "data": {
      "text/html": [
       "<div>\n",
       "<style scoped>\n",
       "    .dataframe tbody tr th:only-of-type {\n",
       "        vertical-align: middle;\n",
       "    }\n",
       "\n",
       "    .dataframe tbody tr th {\n",
       "        vertical-align: top;\n",
       "    }\n",
       "\n",
       "    .dataframe thead th {\n",
       "        text-align: right;\n",
       "    }\n",
       "</style>\n",
       "<table border=\"1\" class=\"dataframe\">\n",
       "  <thead>\n",
       "    <tr style=\"text-align: right;\">\n",
       "      <th></th>\n",
       "      <th>domain_userid</th>\n",
       "      <th>path</th>\n",
       "    </tr>\n",
       "  </thead>\n",
       "  <tbody>\n",
       "    <tr>\n",
       "      <td>0</td>\n",
       "      <td>000004b3-0060-4470-8040-0d3280a024d9</td>\n",
       "      <td>[Start, Brand, Null]</td>\n",
       "    </tr>\n",
       "    <tr>\n",
       "      <td>1</td>\n",
       "      <td>00000750-a0ae-4db5-af47-eb09bd22cfb5</td>\n",
       "      <td>[Start, Other, Purchase]</td>\n",
       "    </tr>\n",
       "    <tr>\n",
       "      <td>2</td>\n",
       "      <td>00000c04-7060-4c61-8090-170570b0e8b8</td>\n",
       "      <td>[Start, SEO, Null]</td>\n",
       "    </tr>\n",
       "    <tr>\n",
       "      <td>3</td>\n",
       "      <td>00000d9b-9c88-41a4-91c7-8df212ec5cae</td>\n",
       "      <td>[Start, Brand, Null]</td>\n",
       "    </tr>\n",
       "    <tr>\n",
       "      <td>4</td>\n",
       "      <td>00000e9b-7804-4575-b6f9-dcd0bcd74504</td>\n",
       "      <td>[Start, Display, Purchase]</td>\n",
       "    </tr>\n",
       "  </tbody>\n",
       "</table>\n",
       "</div>"
      ],
      "text/plain": [
       "                          domain_userid                        path\n",
       "0  000004b3-0060-4470-8040-0d3280a024d9        [Start, Brand, Null]\n",
       "1  00000750-a0ae-4db5-af47-eb09bd22cfb5    [Start, Other, Purchase]\n",
       "2  00000c04-7060-4c61-8090-170570b0e8b8          [Start, SEO, Null]\n",
       "3  00000d9b-9c88-41a4-91c7-8df212ec5cae        [Start, Brand, Null]\n",
       "4  00000e9b-7804-4575-b6f9-dcd0bcd74504  [Start, Display, Purchase]"
      ]
     },
     "execution_count": 182,
     "metadata": {},
     "output_type": "execute_result"
    }
   ],
   "source": [
    "df_paths.head()"
   ]
  },
  {
   "cell_type": "code",
   "execution_count": 142,
   "metadata": {},
   "outputs": [
    {
     "name": "stdout",
     "output_type": "stream",
     "text": [
      "<class 'pandas.core.frame.DataFrame'>\n",
      "Int64Index: 500000 entries, 0 to 499999\n",
      "Data columns (total 2 columns):\n",
      "domain_userid    500000 non-null object\n",
      "path             500000 non-null object\n",
      "dtypes: object(2)\n",
      "memory usage: 11.4+ MB\n"
     ]
    }
   ],
   "source": [
    "df_paths.info()"
   ]
  },
  {
   "cell_type": "markdown",
   "metadata": {},
   "source": [
    "### Markov Chains"
   ]
  },
  {
   "cell_type": "code",
   "execution_count": 183,
   "metadata": {},
   "outputs": [],
   "source": [
    "list_of_paths = df_paths['path']\n",
    "total_conversions = sum(path.count('Purchase') for path in df_paths['path'].tolist())\n",
    "base_conversion_rate = total_conversions / len(list_of_paths)"
   ]
  },
  {
   "cell_type": "code",
   "execution_count": 184,
   "metadata": {},
   "outputs": [
    {
     "data": {
      "text/plain": [
       "0.365166"
      ]
     },
     "execution_count": 184,
     "metadata": {},
     "output_type": "execute_result"
    }
   ],
   "source": [
    "base_conversion_rate"
   ]
  },
  {
   "cell_type": "code",
   "execution_count": 202,
   "metadata": {},
   "outputs": [
    {
     "data": {
      "text/plain": [
       "0               [Start, Brand, Null]\n",
       "1           [Start, Other, Purchase]\n",
       "2                 [Start, SEO, Null]\n",
       "3               [Start, Brand, Null]\n",
       "4         [Start, Display, Purchase]\n",
       "                     ...            \n",
       "499995        [Start, SEM, Purchase]\n",
       "499996     [Start, SEM, Other, Null]\n",
       "499997            [Start, SEO, Null]\n",
       "499998     [Start, SEM, Brand, Null]\n",
       "499999        [Start, SEM, Purchase]\n",
       "Name: path, Length: 500000, dtype: object"
      ]
     },
     "execution_count": 202,
     "metadata": {},
     "output_type": "execute_result"
    }
   ],
   "source": [
    "list_of_paths"
   ]
  },
  {
   "cell_type": "code",
   "execution_count": 196,
   "metadata": {},
   "outputs": [],
   "source": [
    "list_of_unique_channels = set(x for element in list_of_paths for x in element)"
   ]
  },
  {
   "cell_type": "code",
   "execution_count": 197,
   "metadata": {},
   "outputs": [
    {
     "data": {
      "text/plain": [
       "{'Brand',\n",
       " 'Display',\n",
       " 'Null',\n",
       " 'Other',\n",
       " 'Purchase',\n",
       " 'Remarketing',\n",
       " 'SEM',\n",
       " 'SEO',\n",
       " 'Start'}"
      ]
     },
     "execution_count": 197,
     "metadata": {},
     "output_type": "execute_result"
    }
   ],
   "source": [
    "list_of_unique_channels"
   ]
  },
  {
   "cell_type": "code",
   "execution_count": 198,
   "metadata": {},
   "outputs": [],
   "source": [
    "transition_states = {x + '>' + y: 0 for x in list_of_unique_channels for y in list_of_unique_channels}"
   ]
  },
  {
   "cell_type": "code",
   "execution_count": 199,
   "metadata": {},
   "outputs": [
    {
     "data": {
      "text/plain": [
       "{'Brand>Brand': 0,\n",
       " 'Brand>Purchase': 0,\n",
       " 'Brand>SEO': 0,\n",
       " 'Brand>Display': 0,\n",
       " 'Brand>Start': 0,\n",
       " 'Brand>Remarketing': 0,\n",
       " 'Brand>Other': 0,\n",
       " 'Brand>SEM': 0,\n",
       " 'Brand>Null': 0,\n",
       " 'Purchase>Brand': 0,\n",
       " 'Purchase>Purchase': 0,\n",
       " 'Purchase>SEO': 0,\n",
       " 'Purchase>Display': 0,\n",
       " 'Purchase>Start': 0,\n",
       " 'Purchase>Remarketing': 0,\n",
       " 'Purchase>Other': 0,\n",
       " 'Purchase>SEM': 0,\n",
       " 'Purchase>Null': 0,\n",
       " 'SEO>Brand': 0,\n",
       " 'SEO>Purchase': 0,\n",
       " 'SEO>SEO': 0,\n",
       " 'SEO>Display': 0,\n",
       " 'SEO>Start': 0,\n",
       " 'SEO>Remarketing': 0,\n",
       " 'SEO>Other': 0,\n",
       " 'SEO>SEM': 0,\n",
       " 'SEO>Null': 0,\n",
       " 'Display>Brand': 0,\n",
       " 'Display>Purchase': 0,\n",
       " 'Display>SEO': 0,\n",
       " 'Display>Display': 0,\n",
       " 'Display>Start': 0,\n",
       " 'Display>Remarketing': 0,\n",
       " 'Display>Other': 0,\n",
       " 'Display>SEM': 0,\n",
       " 'Display>Null': 0,\n",
       " 'Start>Brand': 0,\n",
       " 'Start>Purchase': 0,\n",
       " 'Start>SEO': 0,\n",
       " 'Start>Display': 0,\n",
       " 'Start>Start': 0,\n",
       " 'Start>Remarketing': 0,\n",
       " 'Start>Other': 0,\n",
       " 'Start>SEM': 0,\n",
       " 'Start>Null': 0,\n",
       " 'Remarketing>Brand': 0,\n",
       " 'Remarketing>Purchase': 0,\n",
       " 'Remarketing>SEO': 0,\n",
       " 'Remarketing>Display': 0,\n",
       " 'Remarketing>Start': 0,\n",
       " 'Remarketing>Remarketing': 0,\n",
       " 'Remarketing>Other': 0,\n",
       " 'Remarketing>SEM': 0,\n",
       " 'Remarketing>Null': 0,\n",
       " 'Other>Brand': 0,\n",
       " 'Other>Purchase': 0,\n",
       " 'Other>SEO': 0,\n",
       " 'Other>Display': 0,\n",
       " 'Other>Start': 0,\n",
       " 'Other>Remarketing': 0,\n",
       " 'Other>Other': 0,\n",
       " 'Other>SEM': 0,\n",
       " 'Other>Null': 0,\n",
       " 'SEM>Brand': 0,\n",
       " 'SEM>Purchase': 0,\n",
       " 'SEM>SEO': 0,\n",
       " 'SEM>Display': 0,\n",
       " 'SEM>Start': 0,\n",
       " 'SEM>Remarketing': 0,\n",
       " 'SEM>Other': 0,\n",
       " 'SEM>SEM': 0,\n",
       " 'SEM>Null': 0,\n",
       " 'Null>Brand': 0,\n",
       " 'Null>Purchase': 0,\n",
       " 'Null>SEO': 0,\n",
       " 'Null>Display': 0,\n",
       " 'Null>Start': 0,\n",
       " 'Null>Remarketing': 0,\n",
       " 'Null>Other': 0,\n",
       " 'Null>SEM': 0,\n",
       " 'Null>Null': 0}"
      ]
     },
     "execution_count": 199,
     "metadata": {},
     "output_type": "execute_result"
    }
   ],
   "source": [
    "transition_states"
   ]
  },
  {
   "cell_type": "code",
   "execution_count": 206,
   "metadata": {},
   "outputs": [],
   "source": [
    "def transition_states(list_of_paths):\n",
    "    list_of_unique_channels = set(x for element in list_of_paths for x in element)\n",
    "    transition_states = {x + '>' + y: 0 for x in list_of_unique_channels for y in list_of_unique_channels}\n",
    "\n",
    "    for possible_state in list_of_unique_channels:\n",
    "        if possible_state not in ['Purchase', 'Null']:\n",
    "            for user_path in list_of_paths:\n",
    "                if possible_state in user_path:\n",
    "                    indices = [i for i, s in enumerate(user_path) if possible_state in s]\n",
    "                    for col in indices:\n",
    "                        transition_states[user_path[col] + '>' + user_path[col + 1]] += 1\n",
    "\n",
    "    return transition_states\n"
   ]
  },
  {
   "cell_type": "code",
   "execution_count": 207,
   "metadata": {},
   "outputs": [],
   "source": [
    "trans_states = transition_states(list_of_paths)"
   ]
  },
  {
   "cell_type": "code",
   "execution_count": 209,
   "metadata": {},
   "outputs": [
    {
     "data": {
      "text/plain": [
       "{'Brand>Brand': 0,\n",
       " 'Brand>Purchase': 24333,\n",
       " 'Brand>SEO': 613,\n",
       " 'Brand>Display': 153,\n",
       " 'Brand>Start': 0,\n",
       " 'Brand>Remarketing': 978,\n",
       " 'Brand>Other': 6305,\n",
       " 'Brand>SEM': 1880,\n",
       " 'Brand>Null': 38600,\n",
       " 'Purchase>Brand': 0,\n",
       " 'Purchase>Purchase': 0,\n",
       " 'Purchase>SEO': 0,\n",
       " 'Purchase>Display': 0,\n",
       " 'Purchase>Start': 0,\n",
       " 'Purchase>Remarketing': 0,\n",
       " 'Purchase>Other': 0,\n",
       " 'Purchase>SEM': 0,\n",
       " 'Purchase>Null': 0,\n",
       " 'SEO>Brand': 1070,\n",
       " 'SEO>Purchase': 15438,\n",
       " 'SEO>SEO': 0,\n",
       " 'SEO>Display': 106,\n",
       " 'SEO>Start': 0,\n",
       " 'SEO>Remarketing': 1078,\n",
       " 'SEO>Other': 3988,\n",
       " 'SEO>SEM': 2051,\n",
       " 'SEO>Null': 38403,\n",
       " 'Display>Brand': 310,\n",
       " 'Display>Purchase': 11961,\n",
       " 'Display>SEO': 114,\n",
       " 'Display>Display': 0,\n",
       " 'Display>Start': 0,\n",
       " 'Display>Remarketing': 3149,\n",
       " 'Display>Other': 1513,\n",
       " 'Display>SEM': 1114,\n",
       " 'Display>Null': 24815,\n",
       " 'Start>Brand': 61738,\n",
       " 'Start>Purchase': 0,\n",
       " 'Start>SEO': 55831,\n",
       " 'Start>Display': 40427,\n",
       " 'Start>Start': 0,\n",
       " 'Start>Remarketing': 13588,\n",
       " 'Start>Other': 82353,\n",
       " 'Start>SEM': 246063,\n",
       " 'Start>Null': 0,\n",
       " 'Remarketing>Brand': 721,\n",
       " 'Remarketing>Purchase': 11038,\n",
       " 'Remarketing>SEO': 426,\n",
       " 'Remarketing>Display': 484,\n",
       " 'Remarketing>Start': 0,\n",
       " 'Remarketing>Remarketing': 0,\n",
       " 'Remarketing>Other': 2276,\n",
       " 'Remarketing>SEM': 2024,\n",
       " 'Remarketing>Null': 17416,\n",
       " 'Other>Brand': 4287,\n",
       " 'Other>Purchase': 16840,\n",
       " 'Other>SEO': 2719,\n",
       " 'Other>Display': 795,\n",
       " 'Other>Start': 0,\n",
       " 'Other>Remarketing': 3492,\n",
       " 'Other>Other': 0,\n",
       " 'Other>SEM': 9380,\n",
       " 'Other>Null': 75918,\n",
       " 'SEM>Brand': 4736,\n",
       " 'SEM>Purchase': 102973,\n",
       " 'SEM>SEO': 2431,\n",
       " 'SEM>Display': 1011,\n",
       " 'SEM>Start': 0,\n",
       " 'SEM>Remarketing': 12100,\n",
       " 'SEM>Other': 16996,\n",
       " 'SEM>SEM': 0,\n",
       " 'SEM>Null': 122265,\n",
       " 'Null>Brand': 0,\n",
       " 'Null>Purchase': 0,\n",
       " 'Null>SEO': 0,\n",
       " 'Null>Display': 0,\n",
       " 'Null>Start': 0,\n",
       " 'Null>Remarketing': 0,\n",
       " 'Null>Other': 0,\n",
       " 'Null>SEM': 0,\n",
       " 'Null>Null': 0}"
      ]
     },
     "execution_count": 209,
     "metadata": {},
     "output_type": "execute_result"
    }
   ],
   "source": [
    "trans_states "
   ]
  },
  {
   "cell_type": "code",
   "execution_count": 208,
   "metadata": {},
   "outputs": [],
   "source": [
    "def transition_prob(trans_dict):\n",
    "    list_of_unique_channels = set(x for element in list_of_paths for x in element)\n",
    "    trans_prob = defaultdict(dict)\n",
    "    for state in list_of_unique_channels:\n",
    "        if state not in ['Purchase', 'Null']:\n",
    "            counter = 0\n",
    "            index = [i for i, s in enumerate(trans_dict) if state + '>' in s]\n",
    "            for col in index:\n",
    "                if trans_dict[list(trans_dict)[col]] > 0:\n",
    "                    counter += trans_dict[list(trans_dict)[col]]\n",
    "            for col in index:\n",
    "                if trans_dict[list(trans_dict)[col]] > 0:\n",
    "                    state_prob = float((trans_dict[list(trans_dict)[col]])) / float(counter)\n",
    "                    trans_prob[list(trans_dict)[col]] = state_prob\n",
    "\n",
    "    return trans_prob\n",
    "\n",
    "\n",
    "trans_prob = transition_prob(trans_states)"
   ]
  },
  {
   "cell_type": "markdown",
   "metadata": {},
   "source": [
    "##### the probability of moving from one channel to another channel is called transition probability"
   ]
  },
  {
   "cell_type": "code",
   "execution_count": 210,
   "metadata": {},
   "outputs": [
    {
     "data": {
      "text/plain": [
       "defaultdict(dict,\n",
       "            {'Brand>Purchase': 0.3339600889352475,\n",
       "             'Brand>SEO': 0.008413164612555242,\n",
       "             'Brand>Display': 0.002099860009332711,\n",
       "             'Brand>Remarketing': 0.013422634569460076,\n",
       "             'Brand>Other': 0.08653344678982186,\n",
       "             'Brand>SEM': 0.025802201421865994,\n",
       "             'Brand>Null': 0.5297686036617166,\n",
       "             'SEO>Brand': 0.017220845269900538,\n",
       "             'SEO>Purchase': 0.2484629993240416,\n",
       "             'SEO>Display': 0.0017059902790742588,\n",
       "             'SEO>Remarketing': 0.017349599253226898,\n",
       "             'SEO>Other': 0.06418386068819004,\n",
       "             'SEO>SEM': 0.03300930247529533,\n",
       "             'SEO>Null': 0.6180674027102714,\n",
       "             'Display>Brand': 0.007213328369322413,\n",
       "             'Display>Purchase': 0.2783181310498883,\n",
       "             'Display>SEO': 0.0026526433358153387,\n",
       "             'Display>Remarketing': 0.0732734549516009,\n",
       "             'Display>Other': 0.035205696202531646,\n",
       "             'Display>SEM': 0.02592144452717796,\n",
       "             'Display>Null': 0.5774153015636634,\n",
       "             'Start>Brand': 0.123476,\n",
       "             'Start>SEO': 0.111662,\n",
       "             'Start>Display': 0.080854,\n",
       "             'Start>Remarketing': 0.027176,\n",
       "             'Start>Other': 0.164706,\n",
       "             'Start>SEM': 0.492126,\n",
       "             'Remarketing>Brand': 0.02096844554311473,\n",
       "             'Remarketing>Purchase': 0.321012069216228,\n",
       "             'Remarketing>SEO': 0.012389123164170424,\n",
       "             'Remarketing>Display': 0.0140759051912171,\n",
       "             'Remarketing>Other': 0.066191653337211,\n",
       "             'Remarketing>SEM': 0.0588628762541806,\n",
       "             'Remarketing>Null': 0.5064999272938782,\n",
       "             'Other>Brand': 0.03779390113813684,\n",
       "             'Other>Purchase': 0.14846029744955083,\n",
       "             'Other>SEO': 0.02397051952288175,\n",
       "             'Other>Display': 0.007008666061305993,\n",
       "             'Other>Remarketing': 0.03078523507683085,\n",
       "             'Other>SEM': 0.08269344359125812,\n",
       "             'Other>Null': 0.6692879371600357,\n",
       "             'SEM>Brand': 0.018041080026817823,\n",
       "             'SEM>Purchase': 0.39226016334491376,\n",
       "             'SEM>SEO': 0.009260529042481867,\n",
       "             'SEM>Display': 0.003851252514170781,\n",
       "             'SEM>Remarketing': 0.04609313098067898,\n",
       "             'SEM>Other': 0.06474370695434875,\n",
       "             'SEM>Null': 0.465750137136588})"
      ]
     },
     "execution_count": 210,
     "metadata": {},
     "output_type": "execute_result"
    }
   ],
   "source": [
    "trans_prob"
   ]
  },
  {
   "cell_type": "code",
   "execution_count": 211,
   "metadata": {},
   "outputs": [],
   "source": [
    "def transition_matrix(list_of_paths, transition_probabilities):\n",
    "    trans_matrix = pd.DataFrame()\n",
    "    list_of_unique_channels = set(x for element in list_of_paths for x in element)\n",
    "\n",
    "    for channel in list_of_unique_channels:\n",
    "        trans_matrix[channel] = 0.00\n",
    "        trans_matrix.loc[channel] = 0.00\n",
    "        trans_matrix.loc[channel][channel] = 1.0 if channel in ['Purchase', 'Null'] else 0.0\n",
    "\n",
    "    for key, value in transition_probabilities.items():\n",
    "        origin, destination = key.split('>')\n",
    "        trans_matrix.at[origin, destination] = value\n",
    "\n",
    "    return trans_matrix\n",
    "\n",
    "\n",
    "trans_matrix = transition_matrix(list_of_paths, trans_prob)"
   ]
  },
  {
   "cell_type": "code",
   "execution_count": 228,
   "metadata": {},
   "outputs": [
    {
     "data": {
      "text/plain": [
       "<Figure size 1080x720 with 0 Axes>"
      ]
     },
     "execution_count": 228,
     "metadata": {},
     "output_type": "execute_result"
    },
    {
     "data": {
      "text/plain": [
       "<matplotlib.axes._subplots.AxesSubplot at 0x274851ed888>"
      ]
     },
     "execution_count": 228,
     "metadata": {},
     "output_type": "execute_result"
    },
    {
     "data": {
      "image/png": "[encoded data removed]",
      "text/plain": [
       "<Figure size 1080x720 with 2 Axes>"
      ]
     },
     "metadata": {},
     "output_type": "display_data"
    }
   ],
   "source": [
    "import matplotlib.cm as cm\n",
    "cmap = cm.get_cmap('Greens')\n",
    "plt.figure(figsize=(15,10))\n",
    "sns.heatmap(trans_matrix, annot=True, cmap = cmap) #'coolwarm')"
   ]
  },
  {
   "cell_type": "code",
   "execution_count": 230,
   "metadata": {},
   "outputs": [],
   "source": [
    "def removal_effects(df, conversion_rate):\n",
    "    removal_effects_dict = {}\n",
    "    channels = [channel for channel in df.columns if channel not in ['Start',\n",
    "                                                                     'Null',\n",
    "                                                                     'Purchase']]\n",
    "    for channel in channels:\n",
    "        removal_df = df.drop(channel, axis=1).drop(channel, axis=0)\n",
    "        for column in removal_df.columns:\n",
    "            row_sum = np.sum(list(removal_df.loc[column]))\n",
    "            null_pct = float(1) - row_sum\n",
    "            if null_pct != 0:\n",
    "                removal_df.loc[column]['Null'] = null_pct\n",
    "            removal_df.loc['Null']['Null'] = 1.0\n",
    "\n",
    "        removal_to_conv = removal_df[\n",
    "            ['Null', 'Purchase']].drop(['Null', 'Purchase'], axis=0)\n",
    "        removal_to_non_conv = removal_df.drop(\n",
    "            ['Null', 'Purchase'], axis=1).drop(['Null', 'Purchase'], axis=0)\n",
    "\n",
    "        removal_inv_diff = np.linalg.inv(\n",
    "            np.identity(\n",
    "                len(removal_to_non_conv.columns)) - np.asarray(removal_to_non_conv))\n",
    "        removal_dot_prod = np.dot(removal_inv_diff, np.asarray(removal_to_conv))\n",
    "        removal_cvr = pd.DataFrame(removal_dot_prod,\n",
    "                                   index=removal_to_conv.index)[[1]].loc['Start'].values[0]\n",
    "        removal_effect = 1 - removal_cvr / conversion_rate\n",
    "        removal_effects_dict[channel] = removal_effect\n",
    "\n",
    "    return removal_effects_dict\n",
    "\n",
    "\n",
    "removal_effects_dict = removal_effects(trans_matrix, base_conversion_rate)"
   ]
  },
  {
   "cell_type": "markdown",
   "metadata": {},
   "source": [
    "#### Removal effect principle says that if we want to find the contribution of each channel in the customer journey, we can do so by removing each channel and see how many conversions are happening without that channel being in place."
   ]
  },
  {
   "cell_type": "code",
   "execution_count": 231,
   "metadata": {},
   "outputs": [
    {
     "data": {
      "text/plain": [
       "{'Brand': 0.14789726785154378,\n",
       " 'SEO': 0.09857599360050673,\n",
       " 'Display': 0.07717690865280469,\n",
       " 'Remarketing': 0.0705236543174893,\n",
       " 'Other': 0.13442869366566956,\n",
       " 'SEM': 0.618586312747569}"
      ]
     },
     "execution_count": 231,
     "metadata": {},
     "output_type": "execute_result"
    }
   ],
   "source": [
    "removal_effects_dict"
   ]
  },
  {
   "cell_type": "code",
   "execution_count": 232,
   "metadata": {},
   "outputs": [],
   "source": [
    "def markov_chain_allocations(removal_effects, total_conversions):\n",
    "    re_sum = np.sum(list(removal_effects.values()))\n",
    "\n",
    "    return {k: (v / re_sum) * total_conversions for k, v in removal_effects.items()}\n",
    "\n",
    "\n",
    "attributions = markov_chain_allocations(removal_effects_dict, total_conversions)"
   ]
  },
  {
   "cell_type": "code",
   "execution_count": 233,
   "metadata": {},
   "outputs": [
    {
     "data": {
      "text/plain": [
       "{'Brand': 23538.868345213697,\n",
       " 'SEO': 15689.04800655339,\n",
       " 'Display': 12283.236319770802,\n",
       " 'Remarketing': 11224.325089419928,\n",
       " 'Other': 21395.252042056087,\n",
       " 'SEM': 98452.27019698608}"
      ]
     },
     "execution_count": 233,
     "metadata": {},
     "output_type": "execute_result"
    }
   ],
   "source": [
    "attributions"
   ]
  },
  {
   "cell_type": "code",
   "execution_count": 234,
   "metadata": {},
   "outputs": [],
   "source": [
    "df_attr = pd.DataFrame([attributions]) "
   ]
  },
  {
   "cell_type": "code",
   "execution_count": 235,
   "metadata": {},
   "outputs": [
    {
     "data": {
      "text/html": [
       "<div>\n",
       "<style scoped>\n",
       "    .dataframe tbody tr th:only-of-type {\n",
       "        vertical-align: middle;\n",
       "    }\n",
       "\n",
       "    .dataframe tbody tr th {\n",
       "        vertical-align: top;\n",
       "    }\n",
       "\n",
       "    .dataframe thead th {\n",
       "        text-align: right;\n",
       "    }\n",
       "</style>\n",
       "<table border=\"1\" class=\"dataframe\">\n",
       "  <thead>\n",
       "    <tr style=\"text-align: right;\">\n",
       "      <th></th>\n",
       "      <th>Brand</th>\n",
       "      <th>SEO</th>\n",
       "      <th>Display</th>\n",
       "      <th>Remarketing</th>\n",
       "      <th>Other</th>\n",
       "      <th>SEM</th>\n",
       "    </tr>\n",
       "  </thead>\n",
       "  <tbody>\n",
       "    <tr>\n",
       "      <td>0</td>\n",
       "      <td>23538.868345</td>\n",
       "      <td>15689.048007</td>\n",
       "      <td>12283.23632</td>\n",
       "      <td>11224.325089</td>\n",
       "      <td>21395.252042</td>\n",
       "      <td>98452.270197</td>\n",
       "    </tr>\n",
       "  </tbody>\n",
       "</table>\n",
       "</div>"
      ],
      "text/plain": [
       "          Brand           SEO      Display   Remarketing         Other  \\\n",
       "0  23538.868345  15689.048007  12283.23632  11224.325089  21395.252042   \n",
       "\n",
       "            SEM  \n",
       "0  98452.270197  "
      ]
     },
     "execution_count": 235,
     "metadata": {},
     "output_type": "execute_result"
    }
   ],
   "source": [
    "sns.df_attr."
   ]
  },
  {
   "cell_type": "code",
   "execution_count": 244,
   "metadata": {},
   "outputs": [
    {
     "data": {
      "text/plain": [
       "<Figure size 720x576 with 0 Axes>"
      ]
     },
     "execution_count": 244,
     "metadata": {},
     "output_type": "execute_result"
    },
    {
     "data": {
      "text/plain": [
       "Text(0, 10, '23538.87')"
      ]
     },
     "execution_count": 244,
     "metadata": {},
     "output_type": "execute_result"
    },
    {
     "data": {
      "text/plain": [
       "Text(0, 10, '15689.05')"
      ]
     },
     "execution_count": 244,
     "metadata": {},
     "output_type": "execute_result"
    },
    {
     "data": {
      "text/plain": [
       "Text(0, 10, '12283.24')"
      ]
     },
     "execution_count": 244,
     "metadata": {},
     "output_type": "execute_result"
    },
    {
     "data": {
      "text/plain": [
       "Text(0, 10, '11224.33')"
      ]
     },
     "execution_count": 244,
     "metadata": {},
     "output_type": "execute_result"
    },
    {
     "data": {
      "text/plain": [
       "Text(0, 10, '21395.25')"
      ]
     },
     "execution_count": 244,
     "metadata": {},
     "output_type": "execute_result"
    },
    {
     "data": {
      "text/plain": [
       "Text(0, 10, '98452.27')"
      ]
     },
     "execution_count": 244,
     "metadata": {},
     "output_type": "execute_result"
    },
    {
     "data": {
      "image/png": "[encoded data removed]",
      "text/plain": [
       "<Figure size 720x576 with 1 Axes>"
      ]
     },
     "metadata": {},
     "output_type": "display_data"
    }
   ],
   "source": [
    "plt.figure(figsize=(10,8))\n",
    "splot  = sns.barplot(data=df_attr)\n",
    "    \n",
    "for p in splot.patches:\n",
    "    splot.annotate(format(p.get_height(), '.2f'),\\\n",
    "                   (p.get_x() + p.get_width() / 2., \\\n",
    "                    p.get_height()), ha = 'center', va = 'center', xytext = (0, 10), textcoords = 'offset points')\n"
   ]
  }
 ],
 "metadata": {
  "kernelspec": {
   "display_name": "Python 3",
   "language": "python",
   "name": "python3"
  },
  "language_info": {
   "codemirror_mode": {
    "name": "ipython",
    "version": 3
   },
   "file_extension": ".py",
   "mimetype": "text/x-python",
   "name": "python",
   "nbconvert_exporter": "python",
   "pygments_lexer": "ipython3",
   "version": "3.6.8"
  }
 },
 "nbformat": 4,
 "nbformat_minor": 4
}
